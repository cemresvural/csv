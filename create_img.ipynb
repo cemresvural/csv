{
 "cells": [
  {
   "cell_type": "code",
   "execution_count": 1,
   "id": "7d92d031",
   "metadata": {},
   "outputs": [
    {
     "name": "stdout",
     "output_type": "stream",
     "text": [
      "Requirement already satisfied: opencv-python in c:\\anacon1\\lib\\site-packages (4.6.0.66)\n",
      "Requirement already satisfied: numpy>=1.14.5 in c:\\anacon1\\lib\\site-packages (from opencv-python) (1.20.1)\n"
     ]
    }
   ],
   "source": [
    "!pip install opencv-python"
   ]
  },
  {
   "cell_type": "code",
   "execution_count": 2,
   "id": "498f414d",
   "metadata": {},
   "outputs": [],
   "source": [
    "import numpy as np"
   ]
  },
  {
   "cell_type": "code",
   "execution_count": 3,
   "id": "176a800b",
   "metadata": {},
   "outputs": [],
   "source": [
    "import cv2 as cv"
   ]
  },
  {
   "cell_type": "code",
   "execution_count": 4,
   "id": "ff333517",
   "metadata": {},
   "outputs": [],
   "source": [
    "path = \"C:\\\\Users\\\\CEMRE\\\\Pictures\\\\img\\\\sokakanimals.jpeg\""
   ]
  },
  {
   "cell_type": "code",
   "execution_count": 5,
   "id": "a060a360",
   "metadata": {},
   "outputs": [],
   "source": [
    "img = cv.imread(path)"
   ]
  },
  {
   "cell_type": "code",
   "execution_count": 6,
   "id": "3a5ee6af",
   "metadata": {},
   "outputs": [],
   "source": [
    "cv.namedWindow(\"image_create\",cv.WINDOW_AUTOSIZE)"
   ]
  },
  {
   "cell_type": "code",
   "execution_count": 7,
   "id": "3820ef6b",
   "metadata": {},
   "outputs": [
    {
     "data": {
      "text/plain": [
       "-1"
      ]
     },
     "execution_count": 7,
     "metadata": {},
     "output_type": "execute_result"
    }
   ],
   "source": [
    "cv.imshow(\"image_create\",img)\n",
    "cv.waitKey(1)"
   ]
  },
  {
   "cell_type": "code",
   "execution_count": 8,
   "id": "7b23c75a",
   "metadata": {},
   "outputs": [],
   "source": [
    "m1=np.copy(img)"
   ]
  },
  {
   "cell_type": "code",
   "execution_count": 9,
   "id": "781d4647",
   "metadata": {},
   "outputs": [],
   "source": [
    "m2=img"
   ]
  },
  {
   "cell_type": "code",
   "execution_count": 10,
   "id": "05f4eafd",
   "metadata": {},
   "outputs": [
    {
     "data": {
      "text/plain": [
       "numpy.ndarray"
      ]
     },
     "execution_count": 10,
     "metadata": {},
     "output_type": "execute_result"
    }
   ],
   "source": [
    "type(img)"
   ]
  },
  {
   "cell_type": "code",
   "execution_count": 11,
   "id": "c7cb8afe",
   "metadata": {},
   "outputs": [
    {
     "data": {
      "text/plain": [
       "-1"
      ]
     },
     "execution_count": 11,
     "metadata": {},
     "output_type": "execute_result"
    }
   ],
   "source": [
    "img[100:200 ,200:300 , : ] =255\n",
    "cv.imshow(\"m2\",m2)\n",
    "cv.waitKey(1)"
   ]
  },
  {
   "cell_type": "code",
   "execution_count": 12,
   "id": "f9f33d19",
   "metadata": {},
   "outputs": [
    {
     "data": {
      "text/plain": [
       "-1"
      ]
     },
     "execution_count": 12,
     "metadata": {},
     "output_type": "execute_result"
    }
   ],
   "source": [
    "m3=np.zeros(img.shape,img.dtype)\n",
    "cv.imshow(\"m3\",m3)\n",
    "cv.waitKey(1)"
   ]
  },
  {
   "cell_type": "code",
   "execution_count": 13,
   "id": "6d209fb9",
   "metadata": {},
   "outputs": [
    {
     "data": {
      "text/plain": [
       "-1"
      ]
     },
     "execution_count": 13,
     "metadata": {},
     "output_type": "execute_result"
    }
   ],
   "source": [
    "m4=np.zeros([512,512],np.uint8)\n",
    "cv.imshow(\"m4\",m4)\n",
    "cv.waitKey(1)"
   ]
  },
  {
   "cell_type": "code",
   "execution_count": 16,
   "id": "6210d530",
   "metadata": {},
   "outputs": [
    {
     "data": {
      "text/plain": [
       "-1"
      ]
     },
     "execution_count": 16,
     "metadata": {},
     "output_type": "execute_result"
    }
   ],
   "source": [
    "m5=np.zeros([512,512],np.uint8)\n",
    "m5[:, :]=128\n",
    "cv.imshow(\"m5\",m5)\n",
    "cv.waitKey(1)"
   ]
  },
  {
   "cell_type": "code",
   "execution_count": 17,
   "id": "e292672f",
   "metadata": {},
   "outputs": [],
   "source": [
    "img=np.ones((550,770,3))\n",
    "black=(0,0,0)\n",
    "red =(0,0,255)\n",
    "green=(0,255,0)"
   ]
  },
  {
   "cell_type": "code",
   "execution_count": 20,
   "id": "1e7e2290",
   "metadata": {},
   "outputs": [
    {
     "data": {
      "text/plain": [
       "-1"
      ]
     },
     "execution_count": 20,
     "metadata": {},
     "output_type": "execute_result"
    }
   ],
   "source": [
    "cv.rectangle(img,(480,250),(100, 450),black,8)\n",
    "cv.rectangle(img, (580,150),(200,350),black,8)\n",
    "cv.line(img, (100,450),(200,350),black,8)\n",
    "cv.line(img, (480,250),(580,150),black,8)\n",
    "cv.line(img, (100,250),(200,150),black,8)\n",
    "cv.line(img, (480,450),(580,350),black,8)\n",
    "start_point = (150,100)\n",
    "font_thickness =2\n",
    "font_size=1\n",
    "font=cv.FONT_HERSHEY_DUPLEX\n",
    "cv.putText(img, 'resimcizer.com',start_point,font,font_size,black,font_thickness)\n",
    "cv.imshow('dikdortgen',img)\n",
    "cv.waitKey(1)"
   ]
  },
  {
   "cell_type": "code",
   "execution_count": null,
   "id": "aa3269ad",
   "metadata": {},
   "outputs": [],
   "source": []
  }
 ],
 "metadata": {
  "kernelspec": {
   "display_name": "Python 3",
   "language": "python",
   "name": "python3"
  },
  "language_info": {
   "codemirror_mode": {
    "name": "ipython",
    "version": 3
   },
   "file_extension": ".py",
   "mimetype": "text/x-python",
   "name": "python",
   "nbconvert_exporter": "python",
   "pygments_lexer": "ipython3",
   "version": "3.8.8"
  }
 },
 "nbformat": 4,
 "nbformat_minor": 5
}

{
 "cells": [
  {
   "cell_type": "markdown",
   "id": "e64aaf5f",
   "metadata": {},
   "source": [
    "Kamera görüntüsüne anlık olarak tersine çevirme, bulanıklaştırma, görüntü kenarları algılanması uygulamaları yapılmıştır."
   ]
  },
  {
   "cell_type": "code",
   "execution_count": 2,
   "id": "cd8dd427",
   "metadata": {},
   "outputs": [],
   "source": [
    "import numpy as np\n",
    "import cv2 as cv"
   ]
  },
  {
   "cell_type": "code",
   "execution_count": 3,
   "id": "3bfd0d7f",
   "metadata": {},
   "outputs": [
    {
     "name": "stdout",
     "output_type": "stream",
     "text": [
      "480.0 640.0 -1.0 30.0\n"
     ]
    }
   ],
   "source": [
    "capture = cv.VideoCapture(0)\n",
    "height=capture.get(cv.CAP_PROP_FRAME_HEIGHT)\n",
    "width =capture.get(cv.CAP_PROP_FRAME_WIDTH)\n",
    "count =capture.get(cv.CAP_PROP_FRAME_COUNT)\n",
    "fps   =capture.get(cv.CAP_PROP_FPS)\n",
    "print(height,width,count,fps)"
   ]
  },
  {
   "cell_type": "code",
   "execution_count": 4,
   "id": "2ef6490d",
   "metadata": {},
   "outputs": [],
   "source": [
    "def process(image,opt=1):\n",
    "    dst = None\n",
    "    if opt==0:\n",
    "        dst=cv.bitwise_not(image)\n",
    "        if opt==1:\n",
    "            dst=cv.GaussianBlur(image,(0,0),15)\n",
    "        if opt==2:\n",
    "            dst=cv.Canny(image,100,200)\n",
    "            return dst"
   ]
  },
  {
   "cell_type": "code",
   "execution_count": null,
   "id": "4bb98f7e",
   "metadata": {},
   "outputs": [],
   "source": [
    "index =2\n",
    "while True:\n",
    "    ret,frame =capture.read()\n",
    "    if ret is True:\n",
    "        cv.imshow(\"video_input\",frame)\n",
    "        c=cv.waitKey(50)\n",
    "        if   c>= 49:\n",
    "            index = c-49\n",
    "            result = process(frame,index)\n",
    "            cv.imshow(\"result\",result)\n",
    "            #print(c)\n",
    "            if c==27: #ESC\n",
    "                break\n",
    "            else:  \n",
    "                break\n",
    "cv.waitKey(1)\n",
    "    "
   ]
  },
  {
   "cell_type": "code",
   "execution_count": null,
   "id": "99b0fafa",
   "metadata": {},
   "outputs": [],
   "source": []
  }
 ],
 "metadata": {
  "kernelspec": {
   "display_name": "Python 3",
   "language": "python",
   "name": "python3"
  },
  "language_info": {
   "codemirror_mode": {
    "name": "ipython",
    "version": 3
   },
   "file_extension": ".py",
   "mimetype": "text/x-python",
   "name": "python",
   "nbconvert_exporter": "python",
   "pygments_lexer": "ipython3",
   "version": "3.8.8"
  }
 },
 "nbformat": 4,
 "nbformat_minor": 5
}

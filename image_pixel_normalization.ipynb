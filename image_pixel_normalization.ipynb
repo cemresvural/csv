{
 "cells": [
  {
   "cell_type": "code",
   "execution_count": 1,
   "id": "bb94ab3c",
   "metadata": {},
   "outputs": [
    {
     "name": "stdout",
     "output_type": "stream",
     "text": [
      "Requirement already satisfied: opencv-python in c:\\anacon1\\lib\\site-packages (4.6.0.66)\n",
      "Requirement already satisfied: numpy>=1.17.3 in c:\\anacon1\\lib\\site-packages (from opencv-python) (1.20.1)\n"
     ]
    }
   ],
   "source": [
    "!pip install opencv-python\n",
    "import numpy as np\n",
    "import cv2 as cv\n",
    "src =cv.imread(\"C:\\\\Users\\\\CEMRE\\\\Pictures\\\\img\\\\left.jpg\")"
   ]
  },
  {
   "cell_type": "code",
   "execution_count": 2,
   "id": "358f97d7",
   "metadata": {},
   "outputs": [
    {
     "name": "stdout",
     "output_type": "stream",
     "text": [
      "(1152, 985, 3)\n"
     ]
    }
   ],
   "source": [
    "print(src.shape) #görüntünün boyutunu alma "
   ]
  },
  {
   "cell_type": "code",
   "execution_count": 3,
   "id": "e1646341",
   "metadata": {},
   "outputs": [
    {
     "data": {
      "text/plain": [
       "-1"
      ]
     },
     "execution_count": 3,
     "metadata": {},
     "output_type": "execute_result"
    }
   ],
   "source": [
    "gray = cv.cvtColor(src,cv.COLOR_BGR2GRAY)\n",
    "cv.imshow(\"gray\",gray)\n",
    "cv.waitKey(1)"
   ]
  },
  {
   "cell_type": "code",
   "execution_count": 4,
   "id": "c1c628df",
   "metadata": {},
   "outputs": [
    {
     "name": "stdout",
     "output_type": "stream",
     "text": [
      "(1152, 985)\n"
     ]
    }
   ],
   "source": [
    "print(gray.shape)"
   ]
  },
  {
   "cell_type": "code",
   "execution_count": 5,
   "id": "3fca2e9c",
   "metadata": {},
   "outputs": [
    {
     "name": "stdout",
     "output_type": "stream",
     "text": [
      "[[168 169 169 ... 202 201 200]\n",
      " [170 171 171 ... 199 197 194]\n",
      " [171 171 172 ... 198 193 194]\n",
      " ...\n",
      " [121 121 120 ...  41  40  41]\n",
      " [117 117 117 ...  42  42  39]\n",
      " [116 115 115 ...  41  41  38]]\n"
     ]
    }
   ],
   "source": [
    "print(gray)"
   ]
  },
  {
   "cell_type": "code",
   "execution_count": 6,
   "id": "36057a61",
   "metadata": {},
   "outputs": [
    {
     "name": "stdout",
     "output_type": "stream",
     "text": [
      "[[168. 169. 169. ... 202. 201. 200.]\n",
      " [170. 171. 171. ... 199. 197. 194.]\n",
      " [171. 171. 172. ... 198. 193. 194.]\n",
      " ...\n",
      " [121. 121. 120. ...  41.  40.  41.]\n",
      " [117. 117. 117. ...  42.  42.  39.]\n",
      " [116. 115. 115. ...  41.  41.  38.]]\n"
     ]
    }
   ],
   "source": [
    "gray =np.float32(gray)\n",
    "print(gray)"
   ]
  },
  {
   "cell_type": "markdown",
   "id": "9020b04c",
   "metadata": {},
   "source": [
    "NORM_MINMAX"
   ]
  },
  {
   "cell_type": "code",
   "execution_count": 7,
   "id": "685fe610",
   "metadata": {},
   "outputs": [
    {
     "name": "stdout",
     "output_type": "stream",
     "text": [
      "min_value: 0.00,max_value: 255.00\n"
     ]
    }
   ],
   "source": [
    "min_value,max_value,min_loc,max_loc =cv.minMaxLoc(gray)\n",
    "print(\"min_value: %.2f,max_value: %.2f\" % (min_value,max_value)) #ortalama"
   ]
  },
  {
   "cell_type": "code",
   "execution_count": 8,
   "id": "aa14d65c",
   "metadata": {},
   "outputs": [
    {
     "name": "stdout",
     "output_type": "stream",
     "text": [
      "mean: 124.24, stddev: 61.60\n"
     ]
    }
   ],
   "source": [
    "means,stddev = cv.meanStdDev(gray)\n",
    "print(\"mean: %.2f, stddev: %.2f\"% (means,stddev)) #standart sapma "
   ]
  },
  {
   "cell_type": "code",
   "execution_count": 9,
   "id": "b82c3872",
   "metadata": {},
   "outputs": [
    {
     "name": "stdout",
     "output_type": "stream",
     "text": [
      "[[0.65882355 0.6627451  0.6627451  ... 0.79215693 0.78823537 0.7843138 ]\n",
      " [0.6666667  0.67058825 0.67058825 ... 0.7803922  0.7725491  0.7607844 ]\n",
      " [0.67058825 0.67058825 0.6745098  ... 0.77647066 0.7568628  0.7607844 ]\n",
      " ...\n",
      " [0.47450984 0.47450984 0.47058827 ... 0.16078432 0.15686275 0.16078432]\n",
      " [0.45882356 0.45882356 0.45882356 ... 0.16470589 0.16470589 0.15294118]\n",
      " [0.454902   0.45098042 0.45098042 ... 0.16078432 0.16078432 0.14901961]]\n"
     ]
    }
   ],
   "source": [
    "dst=np.zeros(gray.shape,dtype=np.float32)\n",
    "cv.normalize(gray, dst=dst, alpha=0,beta=1.0,norm_type=cv.NORM_MINMAX)\n",
    "print(dst)"
   ]
  },
  {
   "cell_type": "code",
   "execution_count": 10,
   "id": "58460057",
   "metadata": {},
   "outputs": [
    {
     "data": {
      "text/plain": [
       "-1"
      ]
     },
     "execution_count": 10,
     "metadata": {},
     "output_type": "execute_result"
    }
   ],
   "source": [
    "cv.imshow(\"NORM_MINMAX\",dst)\n",
    "cv.waitKey(1)"
   ]
  },
  {
   "cell_type": "code",
   "execution_count": 11,
   "id": "831b9ce4",
   "metadata": {},
   "outputs": [
    {
     "name": "stdout",
     "output_type": "stream",
     "text": [
      "min_value: 0.00,max_value: 1.00\n"
     ]
    }
   ],
   "source": [
    "min_value,max_value,min_loc,max_loc =cv.minMaxLoc(dst)\n",
    "print(\"min_value: %.2f,max_value: %.2f\" % (min_value,max_value)) #dönüştürmüş olduğumuz formun ort "
   ]
  },
  {
   "cell_type": "code",
   "execution_count": 12,
   "id": "d17c0074",
   "metadata": {},
   "outputs": [
    {
     "name": "stdout",
     "output_type": "stream",
     "text": [
      "mean: 0.49, stddev: 0.24\n"
     ]
    }
   ],
   "source": [
    "means,stddev = cv.meanStdDev(dst)\n",
    "print(\"mean: %.2f, stddev: %.2f\"% (means,stddev))"
   ]
  },
  {
   "cell_type": "markdown",
   "id": "30b858c7",
   "metadata": {},
   "source": [
    "NORM_INF"
   ]
  },
  {
   "cell_type": "code",
   "execution_count": 15,
   "id": "446fe5d0",
   "metadata": {},
   "outputs": [
    {
     "name": "stdout",
     "output_type": "stream",
     "text": [
      "[[0.65882355 0.6627451  0.6627451  ... 0.79215693 0.78823537 0.7843138 ]\n",
      " [0.6666667  0.67058825 0.67058825 ... 0.7803922  0.7725491  0.7607844 ]\n",
      " [0.67058825 0.67058825 0.6745098  ... 0.77647066 0.7568628  0.7607844 ]\n",
      " ...\n",
      " [0.47450984 0.47450984 0.47058827 ... 0.16078432 0.15686275 0.16078432]\n",
      " [0.45882356 0.45882356 0.45882356 ... 0.16470589 0.16470589 0.15294118]\n",
      " [0.454902   0.45098042 0.45098042 ... 0.16078432 0.16078432 0.14901961]]\n"
     ]
    }
   ],
   "source": [
    "dst=np.zeros(gray.shape,dtype=np.float32)\n",
    "cv.normalize(gray,dst=dst,alpha=1.0,beta=0,norm_type=cv.NORM_INF)\n",
    "print(dst)\n"
   ]
  },
  {
   "cell_type": "code",
   "execution_count": 17,
   "id": "8810d898",
   "metadata": {},
   "outputs": [
    {
     "data": {
      "text/plain": [
       "-1"
      ]
     },
     "execution_count": 17,
     "metadata": {},
     "output_type": "execute_result"
    }
   ],
   "source": [
    "cv.imshow(\"NORM_INF\",np.uint8(dst*255))\n",
    "cv.waitKey(1)"
   ]
  },
  {
   "cell_type": "markdown",
   "id": "32a0442a",
   "metadata": {},
   "source": [
    "NORM_L1"
   ]
  },
  {
   "cell_type": "code",
   "execution_count": 19,
   "id": "50261ebd",
   "metadata": {},
   "outputs": [
    {
     "name": "stdout",
     "output_type": "stream",
     "text": [
      "[[1.1917203e-06 1.1988138e-06 1.1988138e-06 ... 1.4329019e-06\n",
      "  1.4258083e-06 1.4187146e-06]\n",
      " [1.2059074e-06 1.2130010e-06 1.2130010e-06 ... 1.4116210e-06\n",
      "  1.3974339e-06 1.3761533e-06]\n",
      " [1.2130010e-06 1.2130010e-06 1.2200946e-06 ... 1.4045276e-06\n",
      "  1.3690596e-06 1.3761533e-06]\n",
      " ...\n",
      " [8.5832238e-07 8.5832238e-07 8.5122878e-07 ... 2.9083651e-07\n",
      "  2.8374293e-07 2.9083651e-07]\n",
      " [8.2994808e-07 8.2994808e-07 8.2994808e-07 ... 2.9793009e-07\n",
      "  2.9793009e-07 2.7664936e-07]\n",
      " [8.2285447e-07 8.1576093e-07 8.1576093e-07 ... 2.9083651e-07\n",
      "  2.9083651e-07 2.6955578e-07]]\n"
     ]
    },
    {
     "data": {
      "text/plain": [
       "-1"
      ]
     },
     "execution_count": 19,
     "metadata": {},
     "output_type": "execute_result"
    }
   ],
   "source": [
    "dst=np.zeros(gray.shape,dtype=np.float32)\n",
    "cv.normalize(gray,dst=dst,alpha=1.0,beta=0,norm_type=cv.NORM_L1)\n",
    "print(dst)\n",
    "cv.imshow(\"NORM_L1\",np.uint8(dst*10000000))\n",
    "cv.waitKey(1)"
   ]
  },
  {
   "cell_type": "markdown",
   "id": "11314e48",
   "metadata": {},
   "source": [
    "NORM_L2"
   ]
  },
  {
   "cell_type": "code",
   "execution_count": 20,
   "id": "77a1f006",
   "metadata": {},
   "outputs": [
    {
     "name": "stdout",
     "output_type": "stream",
     "text": [
      "[[0.00113734 0.0011441  0.0011441  ... 0.00136751 0.00136074 0.00135397]\n",
      " [0.00115087 0.00115764 0.00115764 ... 0.0013472  0.00133366 0.00131335]\n",
      " [0.00115764 0.00115764 0.00116441 ... 0.00134043 0.00130658 0.00131335]\n",
      " ...\n",
      " [0.00081915 0.00081915 0.00081238 ... 0.00027756 0.00027079 0.00027756]\n",
      " [0.00079207 0.00079207 0.00079207 ... 0.00028433 0.00028433 0.00026402]\n",
      " [0.0007853  0.00077853 0.00077853 ... 0.00027756 0.00027756 0.00025725]]\n"
     ]
    },
    {
     "data": {
      "text/plain": [
       "-1"
      ]
     },
     "execution_count": 20,
     "metadata": {},
     "output_type": "execute_result"
    }
   ],
   "source": [
    "dst=np.zeros(gray.shape,dtype=np.float32)\n",
    "cv.normalize(gray,dst=dst,alpha=1.0,beta=0,norm_type=cv.NORM_L2)\n",
    "print(dst)\n",
    "cv.imshow(\"NORM_L2\",np.uint8(dst*10000))\n",
    "cv.waitKey(1)"
   ]
  },
  {
   "cell_type": "code",
   "execution_count": 21,
   "id": "851a0fde",
   "metadata": {},
   "outputs": [],
   "source": [
    "cv.destroyAllWindows()"
   ]
  },
  {
   "cell_type": "code",
   "execution_count": null,
   "id": "b68ece57",
   "metadata": {},
   "outputs": [],
   "source": []
  }
 ],
 "metadata": {
  "kernelspec": {
   "display_name": "Python 3",
   "language": "python",
   "name": "python3"
  },
  "language_info": {
   "codemirror_mode": {
    "name": "ipython",
    "version": 3
   },
   "file_extension": ".py",
   "mimetype": "text/x-python",
   "name": "python",
   "nbconvert_exporter": "python",
   "pygments_lexer": "ipython3",
   "version": "3.8.8"
  }
 },
 "nbformat": 4,
 "nbformat_minor": 5
}

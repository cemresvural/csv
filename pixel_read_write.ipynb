{
 "cells": [
  {
   "cell_type": "code",
   "execution_count": 1,
   "id": "441773f3",
   "metadata": {},
   "outputs": [
    {
     "name": "stdout",
     "output_type": "stream",
     "text": [
      "Requirement already satisfied: opencv-python in c:\\anacon1\\lib\\site-packages (4.6.0.66)\n",
      "Requirement already satisfied: numpy>=1.17.3 in c:\\anacon1\\lib\\site-packages (from opencv-python) (1.20.1)\n"
     ]
    }
   ],
   "source": [
    "!pip install opencv-python\n",
    "import numpy as np\n",
    "import cv2 as cv"
   ]
  },
  {
   "cell_type": "code",
   "execution_count": 2,
   "id": "e82f533b",
   "metadata": {},
   "outputs": [],
   "source": [
    "path = \"C:\\\\Users\\\\CEMRE\\\\Pictures\\\\img\\\\sokakanimals.jpeg\"\n",
    "img = cv.imread(path)\n",
    "cv.namedWindow(\"img\",cv.WINDOW_AUTOSIZE)"
   ]
  },
  {
   "cell_type": "code",
   "execution_count": 3,
   "id": "0a516627",
   "metadata": {},
   "outputs": [
    {
     "name": "stdout",
     "output_type": "stream",
     "text": [
      "h,w,ch 250 333 3\n"
     ]
    }
   ],
   "source": [
    "h,w,ch =img.shape\n",
    "print(\"h,w,ch\",h,w,ch)"
   ]
  },
  {
   "cell_type": "code",
   "execution_count": 4,
   "id": "c5d143a7",
   "metadata": {},
   "outputs": [],
   "source": [
    "for row in range(h):\n",
    "    for col in range(w):\n",
    "        b,g,r =img[row,col]\n",
    "        b= 255- b\n",
    "        g= 255- g\n",
    "        r= 255- r\n",
    "        img[row,col]=[b,g,r]"
   ]
  },
  {
   "cell_type": "code",
   "execution_count": 5,
   "id": "23b6ee38",
   "metadata": {},
   "outputs": [
    {
     "data": {
      "text/plain": [
       "-1"
      ]
     },
     "execution_count": 5,
     "metadata": {},
     "output_type": "execute_result"
    }
   ],
   "source": [
    "cv.imshow(\"output\",img)\n",
    "cv.waitKey(1)"
   ]
  },
  {
   "cell_type": "code",
   "execution_count": 6,
   "id": "cca45e21",
   "metadata": {},
   "outputs": [],
   "source": [
    "cv.destroyAllWindows()"
   ]
  },
  {
   "cell_type": "code",
   "execution_count": null,
   "id": "5ff9ca10",
   "metadata": {},
   "outputs": [],
   "source": []
  }
 ],
 "metadata": {
  "kernelspec": {
   "display_name": "Python 3",
   "language": "python",
   "name": "python3"
  },
  "language_info": {
   "codemirror_mode": {
    "name": "ipython",
    "version": 3
   },
   "file_extension": ".py",
   "mimetype": "text/x-python",
   "name": "python",
   "nbconvert_exporter": "python",
   "pygments_lexer": "ipython3",
   "version": "3.8.8"
  }
 },
 "nbformat": 4,
 "nbformat_minor": 5
}

{
 "cells": [
  {
   "cell_type": "markdown",
   "id": "57376028",
   "metadata": {},
   "source": [
    "Bir görüntünün performans ölçme değerlendirme teknikleri ile temel istatistiklerine erişilerek değerlere lokasyon belirleme işlemi yapılmıştır."
   ]
  },
  {
   "cell_type": "code",
   "execution_count": 1,
   "id": "8d1e50e4",
   "metadata": {},
   "outputs": [
    {
     "name": "stdout",
     "output_type": "stream",
     "text": [
      "Requirement already satisfied: opencv-python in c:\\anacon1\\lib\\site-packages (4.6.0.66)\n",
      "Requirement already satisfied: numpy>=1.14.5 in c:\\anacon1\\lib\\site-packages (from opencv-python) (1.20.1)\n"
     ]
    }
   ],
   "source": [
    "!pip install opencv-python\n",
    "import numpy as np\n",
    "import cv2 as cv"
   ]
  },
  {
   "cell_type": "code",
   "execution_count": 13,
   "id": "a5e03b5e",
   "metadata": {},
   "outputs": [],
   "source": [
    "src =cv.imread(\"C:\\\\Users\\\\CEMRE\\\\Pictures\\\\img\\\\left.jpg\",cv.IMREAD_GRAYSCALE)"
   ]
  },
  {
   "cell_type": "markdown",
   "id": "52359648",
   "metadata": {},
   "source": [
    "minMaxLoc"
   ]
  },
  {
   "cell_type": "code",
   "execution_count": 14,
   "id": "9ca9019d",
   "metadata": {},
   "outputs": [
    {
     "name": "stdout",
     "output_type": "stream",
     "text": [
      "min_value: 0.00,max_value: 255.00\n"
     ]
    }
   ],
   "source": [
    "min_value,max_value,min_loc,max_loc =cv.minMaxLoc(src)\n",
    "print(\"min_value: %.2f,max_value: %.2f\" % (min_value,max_value))"
   ]
  },
  {
   "cell_type": "code",
   "execution_count": 15,
   "id": "0d0e74b0",
   "metadata": {},
   "outputs": [
    {
     "name": "stdout",
     "output_type": "stream",
     "text": [
      "min loc: (867, 447) , max loc: (820, 3)\n"
     ]
    }
   ],
   "source": [
    "print(\"min loc:\",min_loc,\",\",\"max loc:\",max_loc)"
   ]
  },
  {
   "cell_type": "markdown",
   "id": "9b60acfa",
   "metadata": {},
   "source": [
    "meanStdDev\n"
   ]
  },
  {
   "cell_type": "code",
   "execution_count": 16,
   "id": "05b3b022",
   "metadata": {},
   "outputs": [
    {
     "name": "stdout",
     "output_type": "stream",
     "text": [
      "mean: 124.24, stddev: 61.62\n"
     ]
    }
   ],
   "source": [
    "means,stddev = cv.meanStdDev(src)\n",
    "print(\"mean: %.2f, stddev: %.2f\"% (means,stddev))"
   ]
  },
  {
   "cell_type": "code",
   "execution_count": 18,
   "id": "17043110",
   "metadata": {},
   "outputs": [],
   "source": [
    "src[np.where(src< means)]= 0\n",
    "src[np.where(src> means)]=255"
   ]
  },
  {
   "cell_type": "code",
   "execution_count": 19,
   "id": "e73f40cb",
   "metadata": {},
   "outputs": [
    {
     "data": {
      "text/plain": [
       "-1"
      ]
     },
     "execution_count": 19,
     "metadata": {},
     "output_type": "execute_result"
    }
   ],
   "source": [
    "cv.imshow(\"binary\",src)\n",
    "cv.waitKey(1)"
   ]
  },
  {
   "cell_type": "code",
   "execution_count": null,
   "id": "7324131f",
   "metadata": {},
   "outputs": [],
   "source": []
  }
 ],
 "metadata": {
  "kernelspec": {
   "display_name": "Python 3",
   "language": "python",
   "name": "python3"
  },
  "language_info": {
   "codemirror_mode": {
    "name": "ipython",
    "version": 3
   },
   "file_extension": ".py",
   "mimetype": "text/x-python",
   "name": "python",
   "nbconvert_exporter": "python",
   "pygments_lexer": "ipython3",
   "version": "3.8.8"
  }
 },
 "nbformat": 4,
 "nbformat_minor": 5
}

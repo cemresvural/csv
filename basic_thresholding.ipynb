{
 "cells": [
  {
   "cell_type": "markdown",
   "id": "1123ef2f",
   "metadata": {},
   "source": [
    "Bir görüntü için optimum eşik değeri belirlenmiştir, üstünde ya da altında kalma durumuna göre filtrelenerek farklı formata dönüştürülmüştür."
   ]
  },
  {
   "cell_type": "code",
   "execution_count": 1,
   "id": "6362347a",
   "metadata": {},
   "outputs": [],
   "source": [
    "import numpy as np\n",
    "import cv2 as cv"
   ]
  },
  {
   "cell_type": "code",
   "execution_count": 2,
   "id": "c08a0b2b",
   "metadata": {},
   "outputs": [],
   "source": [
    "src=cv.imread(\"C:\\\\Users\\\\CEMRE\\\\Pictures\\\\img\\\\right.jpg\")"
   ]
  },
  {
   "cell_type": "code",
   "execution_count": 10,
   "id": "c5cfaee7",
   "metadata": {
    "scrolled": true
   },
   "outputs": [],
   "source": [
    "T=127\n",
    "gray=cv.cvtColor(src,cv.COLOR_BGR2GRAY)\n",
    "for i in range(5):\n",
    "    ret,binary = cv.threshold(gray,T,255,i)\n",
    "    cv.imshow(\"binary_\" + str(i),binary)\n",
    "    cv.waitKey(1)"
   ]
  },
  {
   "cell_type": "code",
   "execution_count": null,
   "id": "9272164e",
   "metadata": {},
   "outputs": [],
   "source": []
  }
 ],
 "metadata": {
  "kernelspec": {
   "display_name": "Python 3",
   "language": "python",
   "name": "python3"
  },
  "language_info": {
   "codemirror_mode": {
    "name": "ipython",
    "version": 3
   },
   "file_extension": ".py",
   "mimetype": "text/x-python",
   "name": "python",
   "nbconvert_exporter": "python",
   "pygments_lexer": "ipython3",
   "version": "3.8.8"
  }
 },
 "nbformat": 4,
 "nbformat_minor": 5
}

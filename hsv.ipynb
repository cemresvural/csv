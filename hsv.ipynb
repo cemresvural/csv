{
 "cells": [
  {
   "cell_type": "code",
   "execution_count": 1,
   "id": "320b0bf9",
   "metadata": {},
   "outputs": [],
   "source": [
    "import cv2 as cv"
   ]
  },
  {
   "cell_type": "code",
   "execution_count": 2,
   "id": "3b25e3ea",
   "metadata": {},
   "outputs": [],
   "source": [
    "path = \"C:\\\\Users\\\\CEMRE\\\\Pictures\\\\img\\\\sokakanimals.jpeg\""
   ]
  },
  {
   "cell_type": "code",
   "execution_count": 3,
   "id": "182e62a9",
   "metadata": {},
   "outputs": [],
   "source": [
    "img = cv.imread(path)"
   ]
  },
  {
   "cell_type": "code",
   "execution_count": 4,
   "id": "f82a8746",
   "metadata": {},
   "outputs": [],
   "source": [
    "cv.namedWindow(\"rgb\",cv.WINDOW_AUTOSIZE)"
   ]
  },
  {
   "cell_type": "code",
   "execution_count": 5,
   "id": "825afa53",
   "metadata": {},
   "outputs": [
    {
     "data": {
      "text/plain": [
       "-1"
      ]
     },
     "execution_count": 5,
     "metadata": {},
     "output_type": "execute_result"
    }
   ],
   "source": [
    "cv.imshow(\"rgb\",img)\n",
    "cv.waitKey(1)"
   ]
  },
  {
   "cell_type": "code",
   "execution_count": 6,
   "id": "af60b0a4",
   "metadata": {},
   "outputs": [
    {
     "data": {
      "text/plain": [
       "-1"
      ]
     },
     "execution_count": 6,
     "metadata": {},
     "output_type": "execute_result"
    }
   ],
   "source": [
    "gray = cv.cvtColor(img, cv.COLOR_BGR2GRAY)\n",
    "cv.imshow(\"gray\",gray)\n",
    "cv.waitKey(1)"
   ]
  },
  {
   "cell_type": "markdown",
   "id": "f93c06d8",
   "metadata": {},
   "source": [
    "hsv renk uzayı nesnelerin takibini kolaylaştırır.\n"
   ]
  },
  {
   "cell_type": "code",
   "execution_count": 8,
   "id": "4babde2e",
   "metadata": {},
   "outputs": [
    {
     "data": {
      "text/plain": [
       "-1"
      ]
     },
     "execution_count": 8,
     "metadata": {},
     "output_type": "execute_result"
    }
   ],
   "source": [
    "hsv=cv.cvtColor(img, cv.COLOR_BGR2HSV)\n",
    "cv.imshow(\"hsv\",gray)\n",
    "cv.waitKey(1)"
   ]
  },
  {
   "cell_type": "code",
   "execution_count": 9,
   "id": "a1506b7e",
   "metadata": {},
   "outputs": [],
   "source": [
    "cv.destroyAllWindows()"
   ]
  },
  {
   "cell_type": "code",
   "execution_count": null,
   "id": "fb01e965",
   "metadata": {},
   "outputs": [],
   "source": []
  }
 ],
 "metadata": {
  "kernelspec": {
   "display_name": "Python 3",
   "language": "python",
   "name": "python3"
  },
  "language_info": {
   "codemirror_mode": {
    "name": "ipython",
    "version": 3
   },
   "file_extension": ".py",
   "mimetype": "text/x-python",
   "name": "python",
   "nbconvert_exporter": "python",
   "pygments_lexer": "ipython3",
   "version": "3.8.8"
  }
 },
 "nbformat": 4,
 "nbformat_minor": 5
}

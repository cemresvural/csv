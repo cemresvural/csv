{
 "cells": [
  {
   "cell_type": "markdown",
   "id": "b9217fc2",
   "metadata": {},
   "source": [
    "OpenCv kütüphanesi ile görüntü alınmıştır, görüntü başarıyla alındı mı kontrol edilerek ekranda gösterilmiştir."
   ]
  },
  {
   "cell_type": "code",
   "execution_count": 1,
   "id": "aa98da32",
   "metadata": {},
   "outputs": [
    {
     "name": "stdout",
     "output_type": "stream",
     "text": [
      "Requirement already satisfied: opencv-python in c:\\anacon1\\lib\\site-packages (4.6.0.66)\n",
      "Requirement already satisfied: numpy>=1.14.5 in c:\\anacon1\\lib\\site-packages (from opencv-python) (1.20.1)\n"
     ]
    }
   ],
   "source": [
    "!pip install opencv-python\n",
    "import numpy as np\n",
    "import cv2 as cv"
   ]
  },
  {
   "cell_type": "code",
   "execution_count": 8,
   "id": "aed7b2dd",
   "metadata": {},
   "outputs": [],
   "source": [
    "capture = cv.VideoCapture(\"C:\\\\Users\\\\CEMRE\\\\Downloads\\\\WhatsApp Video 2022-10-30 at 01.56.33.mp4\")"
   ]
  },
  {
   "cell_type": "code",
   "execution_count": 9,
   "id": "492aa863",
   "metadata": {},
   "outputs": [
    {
     "name": "stdout",
     "output_type": "stream",
     "text": [
      "640.0 352.0 452.0 30.200529511496413\n"
     ]
    }
   ],
   "source": [
    "height=capture.get(cv.CAP_PROP_FRAME_HEIGHT)\n",
    "width =capture.get(cv.CAP_PROP_FRAME_WIDTH)\n",
    "count =capture.get(cv.CAP_PROP_FRAME_COUNT)\n",
    "fps   =capture.get(cv.CAP_PROP_FPS)\n",
    "print(height,width,count,fps)"
   ]
  },
  {
   "cell_type": "code",
   "execution_count": 10,
   "id": "ebade98d",
   "metadata": {},
   "outputs": [],
   "source": [
    "out=cv.VideoWriter(\"C:\\\\Users\\\\CEMRE\\\\Downloads\\\\WhatsApp Video 2022-10-30 at 01.27.22.avi\",\n",
    "                  cv.VideoWriter_fourcc('D','I','V','X'),15,\n",
    "                  (np.int_(width),np.int_(height)),True)\n"
   ]
  },
  {
   "cell_type": "code",
   "execution_count": 11,
   "id": "07600a9d",
   "metadata": {},
   "outputs": [],
   "source": [
    "while True:\n",
    "    ret,frame=capture.read()\n",
    "    #görüntü başarıyla alındı mı kontrol et\n",
    "    if ret is True:\n",
    "        #okunan görüntüyü ekranda göster\n",
    "        cv.imshow(\"video_input\",frame)\n",
    "        out.write(frame)\n",
    "        #70 saniye sonra çık\n",
    "        c=cv.waitKey(70)\n",
    "        if c==27: #ESC \n",
    "            break\n",
    "        else:\n",
    "                break"
   ]
  },
  {
   "cell_type": "code",
   "execution_count": 12,
   "id": "6ec46dd3",
   "metadata": {},
   "outputs": [],
   "source": [
    "capture.release()"
   ]
  },
  {
   "cell_type": "code",
   "execution_count": 13,
   "id": "38ae373f",
   "metadata": {},
   "outputs": [],
   "source": [
    "out.release()"
   ]
  },
  {
   "cell_type": "code",
   "execution_count": null,
   "id": "affdbe6b",
   "metadata": {},
   "outputs": [],
   "source": []
  }
 ],
 "metadata": {
  "kernelspec": {
   "display_name": "Python 3",
   "language": "python",
   "name": "python3"
  },
  "language_info": {
   "codemirror_mode": {
    "name": "ipython",
    "version": 3
   },
   "file_extension": ".py",
   "mimetype": "text/x-python",
   "name": "python",
   "nbconvert_exporter": "python",
   "pygments_lexer": "ipython3",
   "version": "3.8.8"
  }
 },
 "nbformat": 4,
 "nbformat_minor": 5
}

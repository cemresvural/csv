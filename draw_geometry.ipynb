{
 "cells": [
  {
   "cell_type": "markdown",
   "id": "cb4c6fb8",
   "metadata": {},
   "source": [
    "Bir görüntü üzerinde belirlenen koodinatlara göre geometrik resimler çizilmiştir ve yeni resmin basit animasyonlar şeklinde kullanılması anlatılmıştır."
   ]
  },
  {
   "cell_type": "code",
   "execution_count": 2,
   "id": "75a04737",
   "metadata": {},
   "outputs": [],
   "source": [
    "import numpy as np\n",
    "import cv2 as cv"
   ]
  },
  {
   "cell_type": "code",
   "execution_count": 3,
   "id": "6879cb18",
   "metadata": {},
   "outputs": [],
   "source": [
    "image=np.zeros((512,512,3),dtype=np.uint8)\n"
   ]
  },
  {
   "cell_type": "code",
   "execution_count": 4,
   "id": "0b79aa86",
   "metadata": {},
   "outputs": [
    {
     "data": {
      "text/plain": [
       "-1"
      ]
     },
     "execution_count": 4,
     "metadata": {},
     "output_type": "execute_result"
    }
   ],
   "source": [
    "cv.rectangle(image,(100,100),(300,300),(255,0,0),2,cv.LINE_8,0)\n",
    "cv.circle(image,(256,256),50,(0,0,255),2,cv.LINE_8,0)\n",
    "cv.ellipse(image,(256,256),(150,50),360,0,360,(0,255,0),2,cv.LINE_8,0)\n",
    "cv.imshow(\"image\",image)\n",
    "cv.waitKey(1)"
   ]
  },
  {
   "cell_type": "code",
   "execution_count": null,
   "id": "0e6f9eac",
   "metadata": {},
   "outputs": [],
   "source": [
    "for i in range(100000):\n",
    "    image[:,:,:] =0\n",
    "    x1 = np.random.rand() *512\n",
    "    y1 = np.random.rand() *512\n",
    "    x2 = np.random.rand() *512\n",
    "    y2 = np.random.rand() *512\n",
    "    \n",
    "    b = np.random.randint(0,256)\n",
    "    g = np.random.randint(0,256)\n",
    "    r = np.random.randint(0,256)\n",
    "    cv.line(image,(np.int_(x1),np.int_(y1)),(np.int_(x2),np.int_(y2)),(b,g,r),4,cv.LINE_8,0)\n",
    "    cv.rectangle(image,(np.int_(x1),np.int_(y1)),(np.int_(x2),np.int_(y2)),(b,g,r),1,cv.LINE_8,0)\n",
    "    cv.imshow(\"image\",image)\n",
    "    c = cv.waitKey(20)\n",
    "    if c == 27:\n",
    "        break #ESC\n",
    "    "
   ]
  },
  {
   "cell_type": "code",
   "execution_count": null,
   "id": "d502327e",
   "metadata": {},
   "outputs": [],
   "source": []
  }
 ],
 "metadata": {
  "kernelspec": {
   "display_name": "Python 3",
   "language": "python",
   "name": "python3"
  },
  "language_info": {
   "codemirror_mode": {
    "name": "ipython",
    "version": 3
   },
   "file_extension": ".py",
   "mimetype": "text/x-python",
   "name": "python",
   "nbconvert_exporter": "python",
   "pygments_lexer": "ipython3",
   "version": "3.8.8"
  }
 },
 "nbformat": 4,
 "nbformat_minor": 5
}

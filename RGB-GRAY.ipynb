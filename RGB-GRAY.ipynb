{
 "cells": [
  {
   "cell_type": "code",
   "execution_count": 10,
   "id": "7770d951",
   "metadata": {},
   "outputs": [
    {
     "name": "stdout",
     "output_type": "stream",
     "text": [
      "Requirement already satisfied: opencv-python in c:\\anacon1\\lib\\site-packages (4.6.0.66)\n",
      "Requirement already satisfied: numpy>=1.17.3 in c:\\anacon1\\lib\\site-packages (from opencv-python) (1.20.1)\n"
     ]
    }
   ],
   "source": [
    "!pip install opencv-python"
   ]
  },
  {
   "cell_type": "code",
   "execution_count": 8,
   "id": "29469122",
   "metadata": {},
   "outputs": [],
   "source": [
    "import cv2 as cv"
   ]
  },
  {
   "cell_type": "code",
   "execution_count": 9,
   "id": "ef8b87cb",
   "metadata": {},
   "outputs": [],
   "source": [
    "path = \"C:\\\\Users\\\\CEMRE\\\\Pictures\\\\img\\\\sokakanimals.jpeg\""
   ]
  },
  {
   "cell_type": "code",
   "execution_count": 10,
   "id": "3b987aff",
   "metadata": {},
   "outputs": [],
   "source": [
    "img = cv.imread(path)"
   ]
  },
  {
   "cell_type": "code",
   "execution_count": 11,
   "id": "f0ed7a48",
   "metadata": {},
   "outputs": [],
   "source": [
    "cv.namedWindow(\"color\",cv.WINDOW_AUTOSIZE)\n"
   ]
  },
  {
   "cell_type": "code",
   "execution_count": 12,
   "id": "66f5a191",
   "metadata": {},
   "outputs": [
    {
     "data": {
      "text/plain": [
       "-1"
      ]
     },
     "execution_count": 12,
     "metadata": {},
     "output_type": "execute_result"
    }
   ],
   "source": [
    "cv.imshow(\"color\",img)\n",
    "cv.waitKey(1)"
   ]
  },
  {
   "cell_type": "markdown",
   "id": "1b93b38e",
   "metadata": {},
   "source": [
    "cvtColor"
   ]
  },
  {
   "cell_type": "code",
   "execution_count": 13,
   "id": "d21325ec",
   "metadata": {},
   "outputs": [],
   "source": [
    "gray = cv.cvtColor(img, cv.COLOR_BGR2GRAY)"
   ]
  },
  {
   "cell_type": "code",
   "execution_count": 14,
   "id": "0f7800ea",
   "metadata": {},
   "outputs": [
    {
     "data": {
      "text/plain": [
       "-1"
      ]
     },
     "execution_count": 14,
     "metadata": {},
     "output_type": "execute_result"
    }
   ],
   "source": [
    "cv.imshow(\"gray\",gray)\n",
    "cv.waitKey(1)"
   ]
  },
  {
   "cell_type": "markdown",
   "id": "4245aae5",
   "metadata": {},
   "source": [
    "imwrite"
   ]
  },
  {
   "cell_type": "code",
   "execution_count": 15,
   "id": "169ace47",
   "metadata": {},
   "outputs": [
    {
     "data": {
      "text/plain": [
       "True"
      ]
     },
     "execution_count": 15,
     "metadata": {},
     "output_type": "execute_result"
    }
   ],
   "source": [
    "cv.imwrite(path +\"gray_animals.jpeg\",gray )"
   ]
  },
  {
   "cell_type": "code",
   "execution_count": 16,
   "id": "648d55c0",
   "metadata": {},
   "outputs": [],
   "source": [
    "cv.destroyAllWindows()"
   ]
  },
  {
   "cell_type": "code",
   "execution_count": null,
   "id": "d945faed",
   "metadata": {},
   "outputs": [],
   "source": []
  }
 ],
 "metadata": {
  "kernelspec": {
   "display_name": "Python 3",
   "language": "python",
   "name": "python3"
  },
  "language_info": {
   "codemirror_mode": {
    "name": "ipython",
    "version": 3
   },
   "file_extension": ".py",
   "mimetype": "text/x-python",
   "name": "python",
   "nbconvert_exporter": "python",
   "pygments_lexer": "ipython3",
   "version": "3.8.8"
  }
 },
 "nbformat": 4,
 "nbformat_minor": 5
}

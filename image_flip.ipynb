{
 "cells": [
  {
   "cell_type": "markdown",
   "id": "e9d9a606",
   "metadata": {},
   "source": [
    "Bir görüntüyü yatay, dikey ya da her iki boyutta da çevirilmesi gösterilmiştir."
   ]
  },
  {
   "cell_type": "code",
   "execution_count": 1,
   "id": "59a9e0e5",
   "metadata": {},
   "outputs": [
    {
     "name": "stdout",
     "output_type": "stream",
     "text": [
      "Requirement already satisfied: opencv-python in c:\\anacon1\\lib\\site-packages (4.6.0.66)\n",
      "Requirement already satisfied: numpy>=1.14.5 in c:\\anacon1\\lib\\site-packages (from opencv-python) (1.20.1)\n"
     ]
    }
   ],
   "source": [
    "!pip install opencv-python\n",
    "import numpy as np\n",
    "import cv2 as cv\n",
    "src =cv.imread(\"C:\\\\Users\\\\CEMRE\\\\Pictures\\\\img\\\\left.jpg\")"
   ]
  },
  {
   "cell_type": "markdown",
   "id": "207a4c19",
   "metadata": {},
   "source": [
    "X Flip"
   ]
  },
  {
   "cell_type": "code",
   "execution_count": 2,
   "id": "e7cdfea3",
   "metadata": {},
   "outputs": [
    {
     "data": {
      "text/plain": [
       "-1"
      ]
     },
     "execution_count": 2,
     "metadata": {},
     "output_type": "execute_result"
    }
   ],
   "source": [
    "dst1=cv.flip(src,0)\n",
    "cv.imshow(\"X-flip\",dst1)\n",
    "cv.waitKey(1)"
   ]
  },
  {
   "cell_type": "markdown",
   "id": "50633a93",
   "metadata": {},
   "source": [
    "Y Flip"
   ]
  },
  {
   "cell_type": "code",
   "execution_count": 3,
   "id": "3d1950ad",
   "metadata": {},
   "outputs": [
    {
     "data": {
      "text/plain": [
       "-1"
      ]
     },
     "execution_count": 3,
     "metadata": {},
     "output_type": "execute_result"
    }
   ],
   "source": [
    "dst2=cv.flip(src,1)\n",
    "cv.imshow(\"Y-flip\",dst2)\n",
    "cv.waitKey(1)"
   ]
  },
  {
   "cell_type": "markdown",
   "id": "bb278399",
   "metadata": {},
   "source": [
    "XY Flip"
   ]
  },
  {
   "cell_type": "code",
   "execution_count": 4,
   "id": "26f85fbf",
   "metadata": {},
   "outputs": [
    {
     "data": {
      "text/plain": [
       "-1"
      ]
     },
     "execution_count": 4,
     "metadata": {},
     "output_type": "execute_result"
    }
   ],
   "source": [
    "dst3=cv.flip(src,-1)\n",
    "cv.imshow(\"xy-flip\",dst3)\n",
    "cv.waitKey(1)"
   ]
  },
  {
   "cell_type": "code",
   "execution_count": 5,
   "id": "e2c98a1b",
   "metadata": {},
   "outputs": [],
   "source": [
    "cv.destroyAllWindows()"
   ]
  },
  {
   "cell_type": "code",
   "execution_count": null,
   "id": "b3ed269c",
   "metadata": {},
   "outputs": [],
   "source": []
  }
 ],
 "metadata": {
  "kernelspec": {
   "display_name": "Python 3",
   "language": "python",
   "name": "python3"
  },
  "language_info": {
   "codemirror_mode": {
    "name": "ipython",
    "version": 3
   },
   "file_extension": ".py",
   "mimetype": "text/x-python",
   "name": "python",
   "nbconvert_exporter": "python",
   "pygments_lexer": "ipython3",
   "version": "3.8.8"
  }
 },
 "nbformat": 4,
 "nbformat_minor": 5
}
